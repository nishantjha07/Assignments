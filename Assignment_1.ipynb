{
 "cells": [
  {
   "cell_type": "markdown",
   "id": "57279e66",
   "metadata": {},
   "source": [
    "#                                              Assignment_1"
   ]
  },
  {
   "cell_type": "markdown",
   "id": "92d7d0de",
   "metadata": {},
   "source": [
    "### Q1.In the below elements which of them are values or an expression? eg:- values can be integer or string and expressions will be mathematical operators.\n",
    "\n",
    "*\n",
    "\n",
    "'hello'\n",
    "\n",
    "-87.8\n",
    "\n",
    "    -\n",
    "\n",
    "/\n",
    "\n",
    "    +\n",
    "\n",
    "6   "
   ]
  },
  {
   "cell_type": "markdown",
   "id": "35f42f86",
   "metadata": {},
   "source": [
    "### Ans1. \n",
    "Values are 'hello', -87.8 & 6\n",
    "\n",
    "Expression are *,-,+ & /\n"
   ]
  },
  {
   "cell_type": "markdown",
   "id": "556b7e5e",
   "metadata": {},
   "source": [
    "### Q2. What is the difference between string and variable?"
   ]
  },
  {
   "cell_type": "markdown",
   "id": "ce07916a",
   "metadata": {},
   "source": [
    "### Ans2.\n",
    "String: A string is a data type that represents a sequence of characters. For example, \"Hello, world!\" and \"112233\" are strings.\n",
    "\n",
    "Variable: A variable is a storage location identified by a name that holds a value. The value can be of any data type, including strings, integers, floats, objects, etc."
   ]
  },
  {
   "cell_type": "markdown",
   "id": "13ceca45",
   "metadata": {},
   "source": [
    "### Q3. Describe three different data types."
   ]
  },
  {
   "cell_type": "markdown",
   "id": "afeb05fd",
   "metadata": {},
   "source": [
    "### Ans3.\n",
    "1. Integer (int) :- An integer is a whole number without any decimal points. It can be positive, negative, or zero.\n",
    "\n",
    "2. Float (float) :- A float is a data type that represents a number with decimal points. It is used for more precise calculations involving fractions or continuous values.\n",
    "\n",
    "3. Boolean (bool) :- A boolean is a data type that represents one of two possible values: True or False. It is commonly used for decision-making and logical operations."
   ]
  },
  {
   "cell_type": "markdown",
   "id": "ceabf729",
   "metadata": {},
   "source": [
    "### Q4. What is an expression made up of? What do all expressions do?"
   ]
  },
  {
   "cell_type": "markdown",
   "id": "34a65967",
   "metadata": {},
   "source": [
    "### Ans4. \n",
    "Expression is made up of operators and operands. Expressions do mathematical operation between operands used in a code with different type of operators to produce some other value."
   ]
  },
  {
   "cell_type": "markdown",
   "id": "5d9afdc4",
   "metadata": {},
   "source": [
    "### Q5.  This assignment statements, like spam = 10. What is the difference between an expression and a statement?"
   ]
  },
  {
   "cell_type": "markdown",
   "id": "94c9c7e2",
   "metadata": {},
   "source": [
    "### Ans5. \n",
    "In an expression, we do mathematical operations of some values which gives some other value while in statement we are assigning some value to a word so that, we can use that value later in an expression."
   ]
  },
  {
   "cell_type": "markdown",
   "id": "81e35b2d",
   "metadata": {},
   "source": [
    "### Q6. After running the following code, what does the variable bacon contain?\n",
    "bacon = 22\n",
    "\n",
    "bacon + 1"
   ]
  },
  {
   "cell_type": "markdown",
   "id": "59f2ae1f",
   "metadata": {},
   "source": [
    "### Ans6.  \n",
    "After running this code, variable bacon still gives same value of 22 because we didnt assign 2nd code to the variable."
   ]
  },
  {
   "cell_type": "code",
   "execution_count": 1,
   "id": "baa4ddfb",
   "metadata": {},
   "outputs": [
    {
     "data": {
      "text/plain": [
       "22"
      ]
     },
     "execution_count": 1,
     "metadata": {},
     "output_type": "execute_result"
    }
   ],
   "source": [
    "bacon = 22\n",
    "\n",
    "bacon + 1\n",
    "\n",
    "bacon"
   ]
  },
  {
   "cell_type": "markdown",
   "id": "8efd661b",
   "metadata": {},
   "source": [
    "### Q7. What should the values of the following two terms be?\n",
    "\n",
    "'spam' + 'spamspam'\n",
    "\n",
    "'spam' * 3"
   ]
  },
  {
   "cell_type": "markdown",
   "id": "6b41336e",
   "metadata": {},
   "source": [
    "### Ans7.\n",
    "1. 'spam' + 'spamspam'\n",
    "\n",
    "Expression uses the + operator to concatenate two strings.\n",
    "\n",
    "When you concatenate 'spam' with 'spamspam', the result is a single string where the second string is appended to the end of the first string.\n",
    "\n"
   ]
  },
  {
   "cell_type": "code",
   "execution_count": 2,
   "id": "f62292d8",
   "metadata": {},
   "outputs": [
    {
     "data": {
      "text/plain": [
       "'spamspamspam'"
      ]
     },
     "execution_count": 2,
     "metadata": {},
     "output_type": "execute_result"
    }
   ],
   "source": [
    "'spam' + 'spamspam'"
   ]
  },
  {
   "cell_type": "markdown",
   "id": "4100c750",
   "metadata": {},
   "source": [
    "2. 'spam' * 3\n",
    "\n",
    "Expression uses the '*' operator to repeat the string 'spam' three times. The * operator, when used with strings, repeats the string the specified number of times."
   ]
  },
  {
   "cell_type": "code",
   "execution_count": 3,
   "id": "2773f8ee",
   "metadata": {},
   "outputs": [
    {
     "data": {
      "text/plain": [
       "'spamspamspam'"
      ]
     },
     "execution_count": 3,
     "metadata": {},
     "output_type": "execute_result"
    }
   ],
   "source": [
    "'spam' * 3"
   ]
  },
  {
   "cell_type": "markdown",
   "id": "4b4fad9f",
   "metadata": {},
   "source": [
    "### Q8. Why is eggs a valid variable name while 100 is invalid?"
   ]
  },
  {
   "cell_type": "markdown",
   "id": "dbe4ac8d",
   "metadata": {},
   "source": [
    "### Ans8. \n",
    "Beacause variable names should start with numbers. It should always start with an alphabet."
   ]
  },
  {
   "cell_type": "markdown",
   "id": "44e1aefe",
   "metadata": {},
   "source": [
    "### Q9. What three functions can be used to get the integer, floating-point number, or string version of a value?"
   ]
  },
  {
   "cell_type": "markdown",
   "id": "094b16d3",
   "metadata": {},
   "source": [
    "### Ans9. \n",
    "There are 3 functions -\n",
    "\n",
    "1. int()\n",
    "\n",
    "2. float()\n",
    "\n",
    "3. str()"
   ]
  },
  {
   "cell_type": "code",
   "execution_count": 4,
   "id": "5eb90897",
   "metadata": {},
   "outputs": [
    {
     "name": "stdout",
     "output_type": "stream",
     "text": [
      "700 700.0 700\n"
     ]
    }
   ],
   "source": [
    "#example\n",
    "\n",
    "value = 700\n",
    "\n",
    "print(int(value), float(value), str(value))"
   ]
  },
  {
   "cell_type": "markdown",
   "id": "3623e7c3",
   "metadata": {},
   "source": [
    "### Q10. Why does this expression cause an error? How can you fix it?\n",
    "'I have eaten ' + 99 + ' burritos.'\n"
   ]
  },
  {
   "cell_type": "code",
   "execution_count": 5,
   "id": "7583da8c",
   "metadata": {},
   "outputs": [
    {
     "ename": "TypeError",
     "evalue": "can only concatenate str (not \"int\") to str",
     "output_type": "error",
     "traceback": [
      "\u001b[1;31m---------------------------------------------------------------------------\u001b[0m",
      "\u001b[1;31mTypeError\u001b[0m                                 Traceback (most recent call last)",
      "\u001b[1;32m~\\AppData\\Local\\Temp\\ipykernel_6764\\786055380.py\u001b[0m in \u001b[0;36m<module>\u001b[1;34m\u001b[0m\n\u001b[1;32m----> 1\u001b[1;33m \u001b[1;34m'I have eaten '\u001b[0m \u001b[1;33m+\u001b[0m \u001b[1;36m99\u001b[0m \u001b[1;33m+\u001b[0m \u001b[1;34m' burritos.'\u001b[0m\u001b[1;33m\u001b[0m\u001b[1;33m\u001b[0m\u001b[0m\n\u001b[0m",
      "\u001b[1;31mTypeError\u001b[0m: can only concatenate str (not \"int\") to str"
     ]
    }
   ],
   "source": [
    "\n",
    "'I have eaten ' + 99 + ' burritos.'\n"
   ]
  },
  {
   "cell_type": "code",
   "execution_count": 7,
   "id": "424817c6",
   "metadata": {},
   "outputs": [
    {
     "data": {
      "text/plain": [
       "'I have eaten 99 burritos.'"
      ]
     },
     "execution_count": 7,
     "metadata": {},
     "output_type": "execute_result"
    }
   ],
   "source": [
    "# we can fix it by converting  99 into string by adding ('')\n",
    "\n",
    "'I have eaten ' + '99' + ' burritos.'"
   ]
  }
 ],
 "metadata": {
  "kernelspec": {
   "display_name": "Python 3 (ipykernel)",
   "language": "python",
   "name": "python3"
  },
  "language_info": {
   "codemirror_mode": {
    "name": "ipython",
    "version": 3
   },
   "file_extension": ".py",
   "mimetype": "text/x-python",
   "name": "python",
   "nbconvert_exporter": "python",
   "pygments_lexer": "ipython3",
   "version": "3.9.13"
  }
 },
 "nbformat": 4,
 "nbformat_minor": 5
}
